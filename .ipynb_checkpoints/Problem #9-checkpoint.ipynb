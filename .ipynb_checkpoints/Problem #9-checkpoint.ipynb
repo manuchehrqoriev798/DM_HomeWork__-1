{
 "cells": [
  {
   "cell_type": "code",
   "execution_count": 1,
   "id": "74d64805",
   "metadata": {},
   "outputs": [
    {
     "name": "stdout",
     "output_type": "stream",
     "text": [
      "Looking in indexes: https://pypi.org/simple, https://packagecloud.io/github/git-lfs/pypi/simple\n",
      "Requirement already satisfied: sympy in /home/manu/anaconda3/lib/python3.11/site-packages (1.11.1)\n",
      "Requirement already satisfied: mpmath>=0.19 in /home/manu/anaconda3/lib/python3.11/site-packages (from sympy) (1.3.0)\n",
      "Note: you may need to restart the kernel to use updated packages.\n"
     ]
    }
   ],
   "source": [
    "pip install sympy\n"
   ]
  },
  {
   "cell_type": "code",
   "execution_count": 2,
   "id": "090b1296",
   "metadata": {},
   "outputs": [
    {
     "name": "stdout",
     "output_type": "stream",
     "text": [
      "The system specifications are consistent.\n",
      "They are consistent in the following situations:\n",
      "{L: True, Q: True, N: True, B: False}\n",
      "{L: True, Q: True, N: False, B: False}\n"
     ]
    }
   ],
   "source": [
    "from sympy import symbols, Not, Implies\n",
    "\n",
    "L, Q, N, B = symbols('L Q N B')\n",
    "\n",
    "specs = [\n",
    "    Implies(Not(L), Q),\n",
    "    Implies(Not(L), N),\n",
    "    Implies(Not(Q), B),\n",
    "    Implies(Not(L), B),\n",
    "    Not(B)\n",
    "]\n",
    "\n",
    "def check_consistency():\n",
    "    results = []\n",
    "    for l in [True, False]:\n",
    "        for q in [True, False]:\n",
    "            for n in [True, False]:\n",
    "                for b in [True, False]:\n",
    "                    values = {L: l, Q: q, N: n, B: b}\n",
    "                    if all(spec.subs(values) for spec in specs):\n",
    "                        results.append(values)\n",
    "    return results\n",
    "\n",
    "consistent_combinations = check_consistency()\n",
    "\n",
    "if consistent_combinations:\n",
    "    print(\"Solutions:\")\n",
    "    for combo in consistent_combinations:\n",
    "        print(combo)\n",
    "else:\n",
    "    print(\"Inconsistent.\")\n"
   ]
  },
  {
   "cell_type": "code",
   "execution_count": null,
   "id": "9e94339a",
   "metadata": {},
   "outputs": [],
   "source": []
  }
 ],
 "metadata": {
  "kernelspec": {
   "display_name": "Python 3 (ipykernel)",
   "language": "python",
   "name": "python3"
  },
  "language_info": {
   "codemirror_mode": {
    "name": "ipython",
    "version": 3
   },
   "file_extension": ".py",
   "mimetype": "text/x-python",
   "name": "python",
   "nbconvert_exporter": "python",
   "pygments_lexer": "ipython3",
   "version": "3.11.5"
  }
 },
 "nbformat": 4,
 "nbformat_minor": 5
}
