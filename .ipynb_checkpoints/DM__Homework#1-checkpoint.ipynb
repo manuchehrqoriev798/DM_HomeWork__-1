{
 "cells": [
  {
   "cell_type": "code",
   "execution_count": 1,
   "id": "74d64805",
   "metadata": {},
   "outputs": [
    {
     "name": "stdout",
     "output_type": "stream",
     "text": [
      "Looking in indexes: https://pypi.org/simple, https://packagecloud.io/github/git-lfs/pypi/simple\n",
      "Requirement already satisfied: sympy in /home/manu/anaconda3/lib/python3.11/site-packages (1.11.1)\n",
      "Requirement already satisfied: mpmath>=0.19 in /home/manu/anaconda3/lib/python3.11/site-packages (from sympy) (1.3.0)\n",
      "Note: you may need to restart the kernel to use updated packages.\n"
     ]
    }
   ],
   "source": [
    "pip install sympy\n"
   ]
  },
  {
   "cell_type": "markdown",
   "id": "3bfee00f",
   "metadata": {},
   "source": [
    "7"
   ]
  },
  {
   "cell_type": "code",
   "execution_count": 2,
   "id": "5b24decb",
   "metadata": {},
   "outputs": [
    {
     "name": "stdout",
     "output_type": "stream",
     "text": [
      "The system specifications are consistent.\n",
      "They are consistent in the following situations:\n",
      "{U: True, A: False, S: True}\n",
      "{U: False, A: True, S: True}\n",
      "{U: False, A: False, S: True}\n",
      "{U: False, A: False, S: False}\n"
     ]
    }
   ],
   "source": [
    "from sympy import symbols, Not, Implies\n",
    "\n",
    "U, A, S = symbols('U A S')\n",
    "\n",
    "specs = [\n",
    "    Implies(U, Not(A)),\n",
    "    Implies(A, S),\n",
    "    Implies(Not(S), Not(U))\n",
    "]\n",
    "\n",
    "def check_consistency():\n",
    "    res = []\n",
    "    for u in [True, False]:\n",
    "        for a in [True, False]:\n",
    "            for s in [True, False]:\n",
    "                vals = {U: u, A: a, S: s}\n",
    "                if all(spec.subs(vals) for spec in specs):\n",
    "                    res.append(vals)\n",
    "    return res\n",
    "\n",
    "consistent_combinations = check_consistency()\n",
    "\n",
    "if consistent_combinations:\n",
    "    print(\"The system specifications are consistent.\")\n",
    "    print(\"They are consistent in the following situations:\")\n",
    "    for combo in consistent_combinations:\n",
    "        print(combo)\n",
    "else:\n",
    "    print(\"The system specifications are inconsistent.\")\n"
   ]
  },
  {
   "cell_type": "markdown",
   "id": "a8e3ebe2",
   "metadata": {},
   "source": [
    "8"
   ]
  },
  {
   "cell_type": "code",
   "execution_count": 3,
   "id": "ac04fa77",
   "metadata": {},
   "outputs": [
    {
     "name": "stdout",
     "output_type": "stream",
     "text": [
      "The system specifications are consistent.\n",
      "They are consistent in the following situations:\n",
      "{S: True, A: False, L: False}\n",
      "{S: False, A: False, L: False}\n"
     ]
    }
   ],
   "source": [
    "from sympy import symbols, Not, Implies\n",
    "\n",
    "S, A, L = symbols('S A L')\n",
    "\n",
    "specs = [\n",
    "    Implies(A, S),\n",
    "    Implies(L, A),\n",
    "    Implies(L, S),\n",
    "    Not(A)\n",
    "]\n",
    "\n",
    "def check_consistency():\n",
    "    res = []\n",
    "    for s in [True, False]:\n",
    "        for a in [True, False]:\n",
    "            for l in [True, False]:\n",
    "                vals = {S: s, A: a, L: l}\n",
    "                if all(spec.subs(vals) for spec in specs):\n",
    "                    res.append(vals)\n",
    "    return res\n",
    "\n",
    "consistent_combinations = check_consistency()\n",
    "\n",
    "if consistent_combinations:\n",
    "    print(\"The system specifications are consistent.\")\n",
    "    print(\"They are consistent in the following situations:\")\n",
    "    for combo in consistent_combinations:\n",
    "        print(combo)\n",
    "else:\n",
    "    print(\"The system specifications are inconsistent.\")\n"
   ]
  },
  {
   "cell_type": "markdown",
   "id": "f52dbbeb",
   "metadata": {},
   "source": [
    "9"
   ]
  },
  {
   "cell_type": "code",
   "execution_count": 4,
   "id": "090b1296",
   "metadata": {},
   "outputs": [
    {
     "name": "stdout",
     "output_type": "stream",
     "text": [
      "Solutions:\n",
      "{L: True, Q: True, N: True, B: False}\n",
      "{L: True, Q: True, N: False, B: False}\n"
     ]
    }
   ],
   "source": [
    "from sympy import symbols, Not, Implies\n",
    "\n",
    "L, Q, N, B = symbols('L Q N B')\n",
    "\n",
    "specs = [\n",
    "    Implies(Not(L), Q),\n",
    "    Implies(Not(L), N),\n",
    "    Implies(Not(Q), B),\n",
    "    Implies(Not(L), B),\n",
    "    Not(B)\n",
    "]\n",
    "\n",
    "def check_consistency():\n",
    "    results = []\n",
    "    for l in [True, False]:\n",
    "        for q in [True, False]:\n",
    "            for n in [True, False]:\n",
    "                for b in [True, False]:\n",
    "                    values = {L: l, Q: q, N: n, B: b}\n",
    "                    if all(spec.subs(values) for spec in specs):\n",
    "                        results.append(values)\n",
    "    return results\n",
    "\n",
    "consistent_combinations = check_consistency()\n",
    "\n",
    "if consistent_combinations:\n",
    "    print(\"Solutions:\")\n",
    "    for combo in consistent_combinations:\n",
    "        print(combo)\n",
    "else:\n",
    "    print(\"Inconsistent.\")\n"
   ]
  },
  {
   "cell_type": "markdown",
   "id": "042984a3",
   "metadata": {},
   "source": [
    "10"
   ]
  },
  {
   "cell_type": "code",
   "execution_count": 5,
   "id": "9e94339a",
   "metadata": {},
   "outputs": [
    {
     "name": "stdout",
     "output_type": "stream",
     "text": [
      "Situation I:\n",
      "Possible solution: {'A': 'knight', 'B': 'spy', 'C': 'knave'}\n",
      "Situation II:\n",
      "Possible solution: {'A': 'knight', 'B': 'spy', 'C': 'knave'}\n"
     ]
    }
   ],
   "source": [
    "from itertools import permutations\n",
    "\n",
    "def eval_situation(statements, truth_map):\n",
    "    for person, stmt in statements.items():\n",
    "        if truth_map[person] == 'knight' and not stmt:\n",
    "            return False\n",
    "        if truth_map[person] == 'knave' and stmt:\n",
    "            return False\n",
    "        if truth_map[person] == 'spy' and not (stmt or not stmt):\n",
    "            return False\n",
    "    return True\n",
    "\n",
    "def solve_puzzle(statements_func):\n",
    "    for perm in permutations(['knight', 'knave', 'spy']):\n",
    "        truth_map = dict(zip(['A', 'B', 'C'], perm))\n",
    "        statements = statements_func(truth_map)\n",
    "        if eval_situation(statements, truth_map):\n",
    "            return truth_map\n",
    "    return None\n",
    "\n",
    "def situation_I_statements(truth_map):\n",
    "    return {\n",
    "        'A': truth_map['A'] == 'knight',\n",
    "        'B': truth_map['A'] == 'knight',\n",
    "        'C': truth_map['C'] == 'spy'\n",
    "    }\n",
    "\n",
    "# Situation II\n",
    "def situation_II_statements(truth_map):\n",
    "    return {\n",
    "        'A': truth_map['A'] != 'spy',\n",
    "        'B': truth_map['B'] != 'spy',\n",
    "        'C': truth_map['A'] == 'spy'\n",
    "    }\n",
    "\n",
    "print(\"Situation I:\")\n",
    "solution_I = solve_puzzle(situation_I_statements)\n",
    "if solution_I:\n",
    "    print(\"Possible solution:\", solution_I)\n",
    "else:\n",
    "    print(\"No solution\")\n",
    "\n",
    "print(\"Situation II:\")\n",
    "solution_II = solve_puzzle(situation_II_statements)\n",
    "if solution_II:\n",
    "    print(\"Possible solution:\", solution_II)\n",
    "else:\n",
    "    print(\"No solution\")\n"
   ]
  },
  {
   "cell_type": "code",
   "execution_count": null,
   "id": "42b29377",
   "metadata": {},
   "outputs": [],
   "source": []
  }
 ],
 "metadata": {
  "kernelspec": {
   "display_name": "Python 3 (ipykernel)",
   "language": "python",
   "name": "python3"
  },
  "language_info": {
   "codemirror_mode": {
    "name": "ipython",
    "version": 3
   },
   "file_extension": ".py",
   "mimetype": "text/x-python",
   "name": "python",
   "nbconvert_exporter": "python",
   "pygments_lexer": "ipython3",
   "version": "3.11.5"
  }
 },
 "nbformat": 4,
 "nbformat_minor": 5
}
